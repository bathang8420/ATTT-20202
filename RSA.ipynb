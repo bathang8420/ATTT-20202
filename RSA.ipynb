{
 "cells": [
  {
   "cell_type": "code",
   "execution_count": 39,
   "metadata": {},
   "outputs": [],
   "source": [
    "import cv2\n",
    "import numpy as np"
   ]
  },
  {
   "cell_type": "code",
   "execution_count": 40,
   "metadata": {},
   "outputs": [],
   "source": [
    "#Read Image input\n",
    "img = cv2.imread('./data/RSA.jpg')\n",
    "height, width, channels = img.shape\n",
    "cv2.imshow('Image',img)\n",
    "cv2.waitKey(0)\n",
    "cv2.destroyAllWindows()"
   ]
  },
  {
   "cell_type": "code",
   "execution_count": 41,
   "metadata": {},
   "outputs": [
    {
     "name": "stdout",
     "output_type": "stream",
     "text": [
      "19\n",
      "23\n"
     ]
    }
   ],
   "source": [
    "#RSA\n",
    "# STEP 1: Generate Two Large Prime Numbers (p,q) randomly\n",
    "from random import randrange, getrandbits\n",
    "\n",
    "def power(a,d,n):\n",
    "  ans=1;\n",
    "  while d!=0:\n",
    "    if d%2==1:\n",
    "      ans=((ans%n)*(a%n))%n\n",
    "    a=((a%n)*(a%n))%n\n",
    "    d>>=1\n",
    "  return ans;\n",
    "\n",
    "\n",
    "def MillerRabin(N,d):\n",
    "  a = randrange(2, N - 1)\n",
    "  x=power(a,d,N);\n",
    "  if x==1 or x==N-1:\n",
    "    return True;\n",
    "  else:\n",
    "    while(d!=N-1):\n",
    "      x=((x%N)*(x%N))%N;\n",
    "      if x==1:\n",
    "        return False;\n",
    "      if x==N-1:\n",
    "        return True;\n",
    "      d<<=1;\n",
    "  return False;\n",
    "\n",
    "\n",
    "def is_prime(N,K):\n",
    "  if N==3 or N==2:\n",
    "    return True;\n",
    "  if N<=1 or N%2==0:\n",
    "    return False;\n",
    "  \n",
    "  #Find d such that d*(2^r)=X-1\n",
    "  d=N-1\n",
    "  while d%2!=0:\n",
    "    d/=2;\n",
    "\n",
    "  for _ in range(K):\n",
    "    if not MillerRabin(N,d):\n",
    "      return False;\n",
    "  return True;  \n",
    "  \n",
    "\n",
    "\n",
    "\n",
    "def generate_prime_candidate(length):\n",
    "  # generate random bits\n",
    "  p = getrandbits(length)\n",
    "  # apply a mask to set MSB and LSB to 1\n",
    "  # Set MSB to 1 to make sure we have a Number of 1024 bits.\n",
    "  # Set LSB to 1 to make sure we get a Odd Number.\n",
    "  p |= (1 << length - 1) | 1\n",
    "  return p\n",
    "\n",
    "\n",
    "\n",
    "def generatePrimeNumber(length):\n",
    "  A=4\n",
    "  while not is_prime(A, 128):\n",
    "        A = generate_prime_candidate(length)\n",
    "  return A\n",
    "\n",
    "\n",
    "\n",
    "length=5\n",
    "P=generatePrimeNumber(length)\n",
    "Q=generatePrimeNumber(length)\n",
    "\n",
    "print(P)\n",
    "print(Q)"
   ]
  },
  {
   "cell_type": "code",
   "execution_count": 42,
   "metadata": {},
   "outputs": [
    {
     "name": "stdout",
     "output_type": "stream",
     "text": [
      "437\n",
      "396\n"
     ]
    }
   ],
   "source": [
    "#Step 2: Calculate N=P*Q and Euler Totient Function = (P-1)*(Q-1)\n",
    "N=P*Q\n",
    "eulerTotient=(P-1)*(Q-1)\n",
    "print(N)\n",
    "print(eulerTotient)"
   ]
  },
  {
   "cell_type": "code",
   "execution_count": 43,
   "metadata": {},
   "outputs": [
    {
     "name": "stdout",
     "output_type": "stream",
     "text": [
      "13\n"
     ]
    }
   ],
   "source": [
    "#Step 3: Find E such that GCD(E,eulerTotient)=1(i.e., e should be co-prime) such that it satisfies this condition:-  1<E<eulerTotient\n",
    "\n",
    "def GCD(a,b):\n",
    "  if a==0:\n",
    "    return b;\n",
    "  return GCD(b%a,a)\n",
    "\n",
    "E=generatePrimeNumber(4)\n",
    "while GCD(E,eulerTotient)!=1:\n",
    "  E=generatePrimeNumber(4)\n",
    "print(E)\n"
   ]
  },
  {
   "cell_type": "code",
   "execution_count": 44,
   "metadata": {},
   "outputs": [
    {
     "name": "stdout",
     "output_type": "stream",
     "text": [
      "61\n"
     ]
    }
   ],
   "source": [
    "# Step 4: Find D. \n",
    "#For Finding D: It must satisfies this property:-  (D*E)Mod(eulerTotient)=1;\n",
    "#Now we have two Choices\n",
    "# 1. That we randomly choose D and check which condition is satisfying above condition.\n",
    "# 2. For Finding D we can Use Extended Euclidean Algorithm: ax+by=1 i.e., eulerTotient(x)+E(y)=GCD(eulerTotient,e)\n",
    "#Here, Best approach is to go for option 2.( Extended Euclidean Algorithm.)\n",
    "\n",
    "def gcdExtended(E,eulerTotient):\n",
    "  a1,a2,b1,b2,d1,d2=1,0,0,1,eulerTotient,E\n",
    "\n",
    "  while d2!=1:\n",
    "\n",
    "    # k\n",
    "    k=(d1//d2)\n",
    "\n",
    "    #a\n",
    "    temp=a2\n",
    "    a2=a1-(a2*k)\n",
    "    a1=temp\n",
    "\n",
    "    #b\n",
    "    temp=b2\n",
    "    b2=b1-(b2*k)\n",
    "    b1=temp\n",
    "\n",
    "    #d\n",
    "    temp=d2\n",
    "    d2=d1-(d2*k)\n",
    "    d1=temp\n",
    "\n",
    "    D=b2\n",
    "\n",
    "  if D>eulerTotient:\n",
    "    D=D%eulerTotient\n",
    "  elif D<0:\n",
    "    D=D+eulerTotient\n",
    "\n",
    "  return D\n",
    "\n",
    "\n",
    "D=gcdExtended(E,eulerTotient)\n",
    "print(D)"
   ]
  },
  {
   "cell_type": "code",
   "execution_count": 45,
   "metadata": {},
   "outputs": [],
   "source": [
    "#Step 5: Encryption\n",
    "enc = [[0 for x in range(3000)] for y in range(3000)]\n",
    "for i in range(0,height):\n",
    "  for j in range(0,width):\n",
    "    r,g,b=img[i,j]\n",
    "    C1=power(r,E,N)\n",
    "    C2=power(g,E,N)\n",
    "    C3=power(b,E,N)\n",
    "    enc[i][j]=[C1,C2,C3]\n",
    "    C1=C1%256\n",
    "    C2=C2%256\n",
    "    C3=C3%256\n",
    "    img[i,j]=[C1,C2,C3]\n",
    "\n",
    "cv2.imshow('Image Encryption',img)\n",
    "cv2.waitKey(0)\n",
    "cv2.destroyAllWindows()"
   ]
  },
  {
   "cell_type": "code",
   "execution_count": 46,
   "metadata": {},
   "outputs": [],
   "source": [
    "#Step 6: Decryption\n",
    "for i in range(0,height):\n",
    "  for j in range(0,width):\n",
    "    r,g,b=enc[i][j]\n",
    "    M1=power(r,D,N)\n",
    "    M2=power(g,D,N)\n",
    "    M3=power(b,D,N)\n",
    "    img[i,j]=[M1,M2,M3]\n",
    "\n",
    "cv2.imshow('Image Decryption',img)\n",
    "cv2.waitKey(0)\n",
    "cv2.destroyAllWindows()"
   ]
  },
  {
   "cell_type": "code",
   "execution_count": null,
   "metadata": {},
   "outputs": [],
   "source": []
  }
 ],
 "metadata": {
  "kernelspec": {
   "display_name": "Python 3",
   "language": "python",
   "name": "python3"
  },
  "language_info": {
   "codemirror_mode": {
    "name": "ipython",
    "version": 3
   },
   "file_extension": ".py",
   "mimetype": "text/x-python",
   "name": "python",
   "nbconvert_exporter": "python",
   "pygments_lexer": "ipython3",
   "version": "3.8.3"
  }
 },
 "nbformat": 4,
 "nbformat_minor": 4
}
